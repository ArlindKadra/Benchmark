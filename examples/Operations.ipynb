{
 "cells": [
  {
   "cell_type": "code",
   "execution_count": 35,
   "metadata": {},
   "outputs": [],
   "source": [
    "import os\n",
    "import sys\n",
    "\n",
    "# In case it is not installed as a package\n",
    "# the project folder needs to be added to\n",
    "# the path\n",
    "\n",
    "# Change the path to the project folder\n",
    "project_path = os.path.expanduser(os.path.join(\"~\", \"Desktop\", \"Benchmark\"))\n",
    "if project_path not in sys.path:\n",
    "    sys.path.append(project_path)"
   ]
  },
  {
   "cell_type": "markdown",
   "metadata": {},
   "source": [
    "# Operations\n",
    "\n",
    "The ResultExtractor package offers the **operations** module to investigate the runs for different tasks and flows according to different criteria. \n",
    "Each function (operation) needs as input a DataFrame with tasks as rows, flows as columns and their corresponding runs as entries (*The input DataFrame can be obtained by using the ResultExtractor with different filters according to your needs*).\n",
    "\n",
    "Implemented in the module as of right now are the following operations:\n",
    "\n",
    "* Build a DataFrame with results for tasks and flows based on a given predictive measure\n",
    "* ................. with the best value for a given predictive measure for different task and flow combinations\n",
    "* ................. with the number of runs from all (using RandomSearch) that fall into the best found minima region within a certain threshold for a given measure for the task and flow combinations."
   ]
  },
  {
   "cell_type": "code",
   "execution_count": 36,
   "metadata": {},
   "outputs": [],
   "source": [
    "from src.util import get_flow_ids\n",
    "from src.result_extractor import ResultExtractor\n",
    "\n",
    "# Example results for mlr.classif.xgboost_5\n",
    "flow_ids = get_flow_ids('mlr.classif.xgboost_5')\n",
    "results = ResultExtractor(*flow_ids).results"
   ]
  },
  {
   "cell_type": "markdown",
   "metadata": {},
   "source": [
    "## Investigating results based on a given measure\n",
    "\n",
    "The **get_tasks_by_measure** function, generates results by getting the runs if any for a task and flow combination and averaging their results on the given predictive measure, this is done for all combinations. The function returns a DataFrame similiar to the input, however the entries are not run ids anymore, but the averaged values of all run predictions."
   ]
  },
  {
   "cell_type": "code",
   "execution_count": 37,
   "metadata": {},
   "outputs": [
    {
     "name": "stdout",
     "output_type": "stream",
     "text": [
      "           5963\n",
      "272    0.730000\n",
      "282    0.735955\n",
      "3917   0.853016\n",
      "9983   0.604286\n",
      "34536  0.914947\n"
     ]
    }
   ],
   "source": [
    "from pprint import pprint\n",
    "from src.operations import get_tasks_by_measure\n",
    "\n",
    "averaged_results = get_tasks_by_measure(\n",
    "    results\n",
    ")\n",
    "pprint(averaged_results)"
   ]
  },
  {
   "cell_type": "markdown",
   "metadata": {},
   "source": [
    "## Investigating results based on the best value\n",
    "\n",
    "The **get_tasks_by_best_score** function, generates results by getting all the runs for a task and flow combination and selecting the one that has the best value for the given predictive measure, this is done for all combinations. If the best value is the lowest value, the *order* argument should be *'descending'*, otherwise*'ascending'*.\n",
    "\n",
    "The function returns a DataFrame similiar to the input, but the entries are not run ids anymore but the predictive measure value of the best run."
   ]
  },
  {
   "cell_type": "code",
   "execution_count": 38,
   "metadata": {},
   "outputs": [
    {
     "name": "stdout",
     "output_type": "stream",
     "text": [
      "           5963\n",
      "272    0.730000\n",
      "282    0.831461\n",
      "3917   0.864391\n",
      "9983   0.710881\n",
      "34536  0.977127\n"
     ]
    }
   ],
   "source": [
    "from pprint import pprint\n",
    "from src.operations import get_tasks_by_best_score\n",
    "\n",
    "best_results = get_tasks_by_best_score(\n",
    "    results\n",
    ")\n",
    "pprint(best_results)"
   ]
  },
  {
   "cell_type": "markdown",
   "metadata": {},
   "source": [
    "## Investigating results based on the minima region\n",
    "\n",
    "The **get_tasks_by_minima_region** function, generates results by getting all the runs for a task and flow combination that make use of RandomSearch and calculates how many of the runs from all, can reach the minima region (the best minima found so far in the results) within a certain threshold. This is done for all combinations. The function makes use of **get_tasks_by_best_score** so that it can find the best minima.\n",
    "\n",
    "The function has the same arguments as **get_tasks_by_best_score** (explained above), a *threshold* argument which represents how much we are willing to consider as the minima region, a *flow_ids* argument which represents the restrictions in flows and *task_restrictions* which represents the restrictions in the tasks considered. \n",
    "\n",
    "**If given, the flow_ids and task_restrictions arguments must match the flows considered in the DataFrame given as an input.**\n",
    "\n",
    "It returns a DataFrame similiar to the input, but the entries are not run ids anymore but the number of runs from all the runs with RandomSearch that reach the minima region."
   ]
  },
  {
   "cell_type": "code",
   "execution_count": 39,
   "metadata": {},
   "outputs": [
    {
     "name": "stdout",
     "output_type": "stream",
     "text": [
      "     5963\n",
      "272  1.00\n",
      "282  0.75\n"
     ]
    }
   ],
   "source": [
    "from pprint import pprint\n",
    "from src.operations import get_tasks_by_minima_region\n",
    "\n",
    "region_results = get_tasks_by_minima_region(\n",
    "    results,\n",
    "    flow_ids\n",
    ")\n",
    "pprint(region_results)"
   ]
  }
 ],
 "metadata": {
  "kernelspec": {
   "display_name": "Python OpenMl",
   "language": "python",
   "name": "openml3.6"
  },
  "language_info": {
   "codemirror_mode": {
    "name": "ipython",
    "version": 3
   },
   "file_extension": ".py",
   "mimetype": "text/x-python",
   "name": "python",
   "nbconvert_exporter": "python",
   "pygments_lexer": "ipython3",
   "version": "3.6.4"
  }
 },
 "nbformat": 4,
 "nbformat_minor": 2
}
