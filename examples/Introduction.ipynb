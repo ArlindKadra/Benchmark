{
 "cells": [
  {
   "cell_type": "code",
   "execution_count": 1,
   "metadata": {},
   "outputs": [],
   "source": [
    "import os\n",
    "import sys\n",
    "\n",
    "# In case it is not installed as a package\n",
    "# the project folder needs to be added to\n",
    "# the path\n",
    "\n",
    "# Change the path to the project folder\n",
    "project_path = os.path.expanduser(os.path.join(\"~\", \"Documents\", \"ResultExtractor\"))\n",
    "if project_path not in sys.path:\n",
    "    sys.path.append(project_path)"
   ]
  },
  {
   "cell_type": "markdown",
   "metadata": {},
   "source": [
    "# Introduction to the OpenML ResultExtractor\n",
    "\n",
    "The OpenML ResultExtractor is a package that allows to analyse the data at OpenML given different task and flow filters. It builds a Pandas DataFrame from the Cartesian product of the tasks and flows, where each entry can be a run, a list of runs or empty for the task and flow combination.\n",
    "\n",
    "The ResultExtractor can be initiliazed in multiple ways:\n",
    "\n",
    "* With non keyworded arguments which represent flow ids to consider\n",
    "* With keyworded arguments which represent run restrictions\n",
    "* Non keyworded and keyworded arguments combined.\n",
    "* Without any arguments, in which case all flows and all tasks run on them will be considered.\n",
    "\n",
    "The last case will not be covered in the tutorial, since there is a large amount of results at OpenML and it takes too long for the results to be available."
   ]
  },
  {
   "cell_type": "markdown",
   "metadata": {},
   "source": [
    "## Getting flow ids given flow identifiers\n",
    "\n",
    "The package offers a helper function which returns flow ids given flow qualifiers.\n",
    "A flow qualifier can be a flow name eg. **'mlr.classif.svm'** or it can be a flow name combined with a flow version **'mlr.classif.svm_6'**, the later is a **unique** flow qualifier and corresponds to a single id.\n",
    "\n",
    "A list of flows can be found at https://www.openml.org/search?type=flow and it \n",
    "can be sorted according to your needs."
   ]
  },
  {
   "cell_type": "code",
   "execution_count": 2,
   "metadata": {},
   "outputs": [
    {
     "name": "stdout",
     "output_type": "stream",
     "text": [
      "Providing only a flow name:\n",
      "{5891, 4102, 6599, 4141, 6669, 5969, 6322, 5524, 5527, 4319}\n",
      "Providing a flow name and a version:\n",
      "{5527}\n",
      "Providing multiple flows:\n",
      "{5891, 4102, 6599, 4141, 6669, 5969, 6322, 5524, 1079, 5527, 4319}\n"
     ]
    }
   ],
   "source": [
    "# Covering 2 simple use cases of the helper function\n",
    "from pprint import pprint \n",
    "from src.util import get_flow_ids\n",
    "\n",
    "# There are 10 different flow versions \n",
    "# for the svm algorithm.\n",
    "print(\"Providing only a flow name:\")\n",
    "flow_ids = get_flow_ids('mlr.classif.svm')\n",
    "pprint(flow_ids)\n",
    "\n",
    "# A unique flow identifier.\n",
    "print(\"Providing a flow name and a version:\")\n",
    "flow_ids = get_flow_ids('mlr.classif.svm_6')\n",
    "pprint(flow_ids)\n",
    "\n",
    "# Providing multiple arguments\n",
    "print(\"Providing multiple flows:\")\n",
    "flow_ids = get_flow_ids('mlr.classif.svm', 'weka.RandomForest_5')\n",
    "pprint(flow_ids)"
   ]
  },
  {
   "cell_type": "markdown",
   "metadata": {},
   "source": [
    "## Restricting the flows considered\n",
    "\n",
    "To limit the number of flows considered, you have to initialize the result extractor with flow ids, given as positional arguments."
   ]
  },
  {
   "cell_type": "code",
   "execution_count": 3,
   "metadata": {},
   "outputs": [
    {
     "name": "stdout",
     "output_type": "stream",
     "text": [
      "Showing the first 3 tasks out of 63\n",
      "                                                 5527\n",
      "3   {3932162, 5013506, 5013507, 5505026, 3932175, ...\n",
      "31  {6684673, 6684677, 4718607, 4718608, 4718609, ...\n",
      "37  {5079040, 5079060, 5079111, 5079112, 5079115, ...\n"
     ]
    }
   ],
   "source": [
    "from src.result_extractor import ResultExtractor\n",
    "\n",
    "# Using a single flow\n",
    "flow_ids = get_flow_ids('mlr.classif.svm_6')\n",
    "# Calling the Result extracter with the flow ids\n",
    "result_extracter = ResultExtractor(*flow_ids)\n",
    "print(\"Showing the first 3 tasks out of %d\" % len(result_extracter.results))\n",
    "pprint(result_extracter.results.iloc[0:3, 0:3])"
   ]
  },
  {
   "cell_type": "markdown",
   "metadata": {},
   "source": [
    "## Restricting the runs\n",
    "\n",
    "To filter results based on different run parameters, the result extractor should be initialized with keyworded arguments.\n",
    "The supported run filters at the moment are **uploader**, **task_type** and **tag**."
   ]
  },
  {
   "cell_type": "code",
   "execution_count": 4,
   "metadata": {},
   "outputs": [
    {
     "name": "stdout",
     "output_type": "stream",
     "text": [
      "Filtering by uploader\n",
      "Showing the first 3 tasks out of 104 and limiting to only 3 flows out of 23\n",
      "        7218       7223       7226\n",
      "2  {7942330}  {7943064}  {7942154}\n",
      "3  {7942334}  {7943085}  {7942221}\n",
      "6  {7943048}  {7942450}  {7943071}\n"
     ]
    }
   ],
   "source": [
    "# The uploader argument should be a list\n",
    "result_extracter = ResultExtractor(uploader=[86])\n",
    "print(\"Filtering by uploader\")\n",
    "print(\"Showing the first 3 tasks out of %d and limiting to only 3 flows out of %d\" % (len(result_extracter.results), len(result_extracter.results.columns)))\n",
    "pprint(result_extracter.results.iloc[0:3, 0:3])"
   ]
  },
  {
   "cell_type": "code",
   "execution_count": 5,
   "metadata": {},
   "outputs": [
    {
     "name": "stdout",
     "output_type": "stream",
     "text": [
      "Filtering by task type: 'Learning Curve'\n",
      "Showing the first 3 tasks out of 252 and limiting to only 3 flows out of 323\n",
      "               381             391                           385\n",
      "61         {25089}  {25147, 51318}  {51392, 51390, 25214, 51391}\n",
      "62  {47972, 25037}  {48354, 25044}                       {48118}\n",
      "63  {25090, 51235}         {48353}                       {51405}\n"
     ]
    }
   ],
   "source": [
    "print(\"Filtering by task type: 'Learning Curve'\")\n",
    "result_extracter = ResultExtractor(task_type=3)\n",
    "print(\"Showing the first 3 tasks out of %d and limiting to only 3 flows out of %d\" % (len(result_extracter.results), len(result_extracter.results.columns)))\n",
    "pprint(result_extracter.results.iloc[0:3, 0:3])"
   ]
  },
  {
   "cell_type": "code",
   "execution_count": 6,
   "metadata": {},
   "outputs": [
    {
     "name": "stdout",
     "output_type": "stream",
     "text": [
      "Filtering by tag: 'weka'\n",
      "Showing the first 3 tasks out of 1632 and limiting to only 3 flows out of 1229\n",
      "   527                                                364  \\\n",
      "1  NaN  {66336, 64549, 64550, 84076, 66093, 84014, 645...   \n",
      "2  NaN                                            {84019}   \n",
      "3  NaN                                            {84020}   \n",
      "\n",
      "                                                 675  \n",
      "1  {148513, 88866, 148506, 148519, 284748, 84028,...  \n",
      "2                                            {84029}  \n",
      "3                                            {84030}  \n"
     ]
    }
   ],
   "source": [
    "print(\"Filtering by tag: 'weka'\")\n",
    "result_extracter = ResultExtractor(tag='weka')\n",
    "print(\"Showing the first 3 tasks out of %d and limiting to only 3 flows out of %d\" % (len(result_extracter.results), len(result_extracter.results.columns)))\n",
    "pprint(result_extracter.results.iloc[0:3, 0:3])"
   ]
  },
  {
   "cell_type": "markdown",
   "metadata": {},
   "source": [
    "### Minimum number of tasks for flow\n",
    "\n",
    "One more filter which is available, is the minimum number of tasks per flow. The filter should be given as 'min_task_flow' and it only considers **tasks** for which the requirement is fullfilled for **each flow**.\n",
    "\n",
    "It should be taken in consideration that when using multiple flows, it can be that the requirement is not met for a single or a minority of flows and the ResultExtractor will discard the task from the results.\n",
    "\n",
    "In the above case, it is better if the minimum number of tasks for flow is kept at a lower value or not given."
   ]
  },
  {
   "cell_type": "markdown",
   "metadata": {},
   "source": [
    "## Restricting the flows and tasks considered\n",
    "\n",
    "Using all of the above information, below you can find an example which limits the flows to consider and also applies different task restrictions."
   ]
  },
  {
   "cell_type": "code",
   "execution_count": 7,
   "metadata": {},
   "outputs": [
    {
     "name": "stdout",
     "output_type": "stream",
     "text": [
      "Filtering by flow weka.RandomForest_5, \n",
      "task type 1 and \n",
      "minimum number of tasks for flow 5\n",
      "Showing the first 3 tasks out of 968\n",
      "                                                1079\n",
      "1  {385697, 148578, 348327, 361032, 475240, 31969...\n",
      "2  {326273, 385698, 365763, 475255, 355976, 47524...\n",
      "3  {185440, 374561, 385699, 355973, 348330, 36103...\n"
     ]
    }
   ],
   "source": [
    "# Using a single flow\n",
    "flow_identifier = 'weka.RandomForest_5'\n",
    "task_type = 1\n",
    "min_task_flow = 5\n",
    "flow_ids = get_flow_ids(flow_identifier)\n",
    "result_extracter = ResultExtractor(\n",
    "    *flow_ids, \n",
    "    task_type=task_type, \n",
    "    min_task_flow=min_task_flow\n",
    ")\n",
    "print(\"Filtering by flow %s, \\ntask type %d and \\nminimum number of tasks for flow %d\" \n",
    "      % (\n",
    "          flow_identifier,\n",
    "          task_type,\n",
    "          min_task_flow\n",
    "      )\n",
    ")\n",
    "print(\"Showing the first 3 tasks out of %d\" % len(result_extracter.results))\n",
    "pprint(result_extracter.results.iloc[0:3, 0:3])"
   ]
  }
 ],
 "metadata": {
  "kernelspec": {
   "display_name": "Python [conda env:openml]",
   "language": "python",
   "name": "conda-env-openml-py"
  },
  "language_info": {
   "codemirror_mode": {
    "name": "ipython",
    "version": 3
   },
   "file_extension": ".py",
   "mimetype": "text/x-python",
   "name": "python",
   "nbconvert_exporter": "python",
   "pygments_lexer": "ipython3",
   "version": "3.6.4"
  }
 },
 "nbformat": 4,
 "nbformat_minor": 2
}
