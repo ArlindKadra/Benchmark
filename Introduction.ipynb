{
 "cells": [
  {
   "cell_type": "code",
   "execution_count": 7,
   "metadata": {},
   "outputs": [
    {
     "name": "stdout",
     "output_type": "stream",
     "text": [
      "The autoreload extension is already loaded. To reload it, use:\n",
      "  %reload_ext autoreload\n"
     ]
    }
   ],
   "source": [
    "%load_ext autoreload\n",
    "%autoreload 0"
   ]
  },
  {
   "cell_type": "markdown",
   "metadata": {},
   "source": [
    "Introduction to the OpenMLResultExtractor\n",
    "-------------------------------------------------\n",
    "\n",
    "The OpenMLResultExtractor provides a Pandas DataFrame built for different flows and tasks for those flows. \n",
    "Each value can be a run, a list of runs or it can be empty. The DataFrame can be built based on different restrictions on flows, tasks or both combined.\n",
    "\n",
    "The result extractor can be initiliazed in multiple ways:\n",
    "\n",
    "* Without any arguments, in which case all flows and all tasks created on them will be considered.\n",
    "* With non keyworded arguments which represent flow ids\n",
    "* With keyworded arguments which represent tasks restrictions"
   ]
  },
  {
   "cell_type": "code",
   "execution_count": 8,
   "metadata": {},
   "outputs": [
    {
     "name": "stdout",
     "output_type": "stream",
     "text": [
      "       accuracy\n",
      "3      0.985294\n",
      "3950   0.999758\n",
      "9889   0.980441\n",
      "9914   0.982434\n",
      "9946   0.958993\n",
      "9952   0.907476\n",
      "9957   0.864455\n",
      "9967   0.994333\n",
      "9970   0.573432\n",
      "9971   0.694683\n",
      "9976   0.735769\n",
      "9977   0.967968\n",
      "9978   0.945146\n",
      "9980   0.914815\n",
      "9983   0.931442\n",
      "10093  0.992711\n",
      "10101  0.770053\n",
      "14951  0.931442\n",
      "14952  0.966893\n",
      "14965  0.906815\n",
      "14966  0.806452\n",
      "14971  0.833108\n"
     ]
    }
   ],
   "source": [
    "from pprint import pprint\n",
    "\n",
    "from src.operations import get_tasks_by_measure\n",
    "from src.util import get_flow_ids\n",
    "from src.result_extractor import ResultExtractor\n",
    "\n",
    "\n",
    "flow_ids = get_flow_ids('mlr.classif.ranger_8')\n",
    "result_extracter = ResultExtractor(*flow_ids)\n",
    "results = result_extracter.results\n",
    "pprint(get_tasks_by_measure(results))"
   ]
  }
 ],
 "metadata": {
  "kernelspec": {
   "display_name": "Python [conda env:openml]",
   "language": "python",
   "name": "conda-env-openml-py"
  },
  "language_info": {
   "codemirror_mode": {
    "name": "ipython",
    "version": 3
   },
   "file_extension": ".py",
   "mimetype": "text/x-python",
   "name": "python",
   "nbconvert_exporter": "python",
   "pygments_lexer": "ipython3",
   "version": "3.6.4"
  }
 },
 "nbformat": 4,
 "nbformat_minor": 2
}
